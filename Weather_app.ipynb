{
  "nbformat": 4,
  "nbformat_minor": 0,
  "metadata": {
    "colab": {
      "provenance": [],
      "authorship_tag": "ABX9TyNdsr6wU/gr3537tmMXU8CP",
      "include_colab_link": true
    },
    "kernelspec": {
      "name": "python3",
      "display_name": "Python 3"
    },
    "language_info": {
      "name": "python"
    }
  },
  "cells": [
    {
      "cell_type": "markdown",
      "metadata": {
        "id": "view-in-github",
        "colab_type": "text"
      },
      "source": [
        "<a href=\"https://colab.research.google.com/github/chyamini3006/oaisi/blob/main/Weather_app.ipynb\" target=\"_parent\"><img src=\"https://colab.research.google.com/assets/colab-badge.svg\" alt=\"Open In Colab\"/></a>"
      ]
    },
    {
      "cell_type": "code",
      "execution_count": 1,
      "metadata": {
        "colab": {
          "base_uri": "https://localhost:8080/"
        },
        "id": "OViB-zIZlfet",
        "outputId": "57e611f6-0215-4bc5-ea9c-9cf6df957d1b"
      },
      "outputs": [
        {
          "output_type": "stream",
          "name": "stdout",
          "text": [
            "Requirement already satisfied: requests in /usr/local/lib/python3.10/dist-packages (2.31.0)\n",
            "Requirement already satisfied: charset-normalizer<4,>=2 in /usr/local/lib/python3.10/dist-packages (from requests) (3.3.2)\n",
            "Requirement already satisfied: idna<4,>=2.5 in /usr/local/lib/python3.10/dist-packages (from requests) (3.6)\n",
            "Requirement already satisfied: urllib3<3,>=1.21.1 in /usr/local/lib/python3.10/dist-packages (from requests) (2.0.7)\n",
            "Requirement already satisfied: certifi>=2017.4.17 in /usr/local/lib/python3.10/dist-packages (from requests) (2023.11.17)\n"
          ]
        }
      ],
      "source": [
        "pip install requests"
      ]
    },
    {
      "cell_type": "code",
      "source": [
        "import requests\n",
        "\n",
        "def get_weather(api_key, city):\n",
        "    base_url = \"http://api.openweathermap.org/data/2.5/weather\"\n",
        "    params = {\"q\": city, \"appid\": api_key, \"units\": \"metric\"}\n",
        "\n",
        "    try:\n",
        "        response = requests.get(base_url, params=params)\n",
        "        data = response.json()\n",
        "\n",
        "        if response.status_code == 200:\n",
        "            return data\n",
        "        else:\n",
        "            print(f\"Error: {data['message']}\")\n",
        "            return None\n",
        "\n",
        "    except requests.RequestException as e:\n",
        "        print(f\"An error occurred: {e}\")\n",
        "        return None\n",
        "\n",
        "def display_weather(weather_data):\n",
        "    if weather_data:\n",
        "        main_info = weather_data[\"main\"]\n",
        "        weather_info = weather_data[\"weather\"][0]\n",
        "\n",
        "        print(f\"Weather in {weather_data['name']}:\")\n",
        "        print(f\"Description: {weather_info['description']}\")\n",
        "        print(f\"Temperature: {main_info['temp']}°C\")\n",
        "        print(f\"Humidity: {main_info['humidity']}%\")\n",
        "        print(f\"Pressure: {main_info['pressure']} hPa\")\n",
        "    else:\n",
        "        print(\"No weather data available.\")\n",
        "\n",
        "if __name__ == \"__main__\":\n",
        "    api_key = \"2597b82d24fc5618e6875e109614182d\"\n",
        "    city = input(\"Enter city name: \")\n",
        "\n",
        "    weather_data = get_weather(api_key, city)\n",
        "\n",
        "    if weather_data:\n",
        "        display_weather(weather_data)"
      ],
      "metadata": {
        "colab": {
          "base_uri": "https://localhost:8080/"
        },
        "id": "mewVzTgsloWe",
        "outputId": "e6734d7b-cbe9-4df5-82de-6a8db0463190"
      },
      "execution_count": 2,
      "outputs": [
        {
          "output_type": "stream",
          "name": "stdout",
          "text": [
            "Enter city name: Hyderabad\n",
            "Weather in Hyderabad:\n",
            "Description: haze\n",
            "Temperature: 27.23°C\n",
            "Humidity: 54%\n",
            "Pressure: 1014 hPa\n"
          ]
        }
      ]
    }
  ]
}